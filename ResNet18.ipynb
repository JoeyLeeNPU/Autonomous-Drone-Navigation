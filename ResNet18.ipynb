{
  "nbformat": 4,
  "nbformat_minor": 0,
  "metadata": {
    "colab": {
      "name": "ResNet18.ipynb",
      "version": "0.3.2",
      "provenance": [],
      "collapsed_sections": []
    },
    "kernelspec": {
      "display_name": "Python 3",
      "language": "python",
      "name": "python3"
    }
  },
  "cells": [
    {
      "metadata": {
        "id": "DpChODeEung1",
        "colab_type": "code",
        "colab": {}
      },
      "cell_type": "code",
      "source": [
        "import numpy as np\n",
        "import tensorflow as tf\n",
        "import matplotlib.pyplot as plt\n",
        "%matplotlib inline"
      ],
      "execution_count": 0,
      "outputs": []
    },
    {
      "metadata": {
        "id": "jCQ7LofwunhL",
        "colab_type": "code",
        "colab": {}
      },
      "cell_type": "code",
      "source": [
        "def block(inputs,filters=64,strides=1):\n",
        "    \"\"\"\n",
        "    Block 1 of Resnet 18\n",
        "    \n",
        "    Args:\n",
        "    inputs: A tensor of size [batch, height_in, width_in, channels]\n",
        "    filters: The number of filters for the convolutions.\n",
        "    strides: The block's stride.\n",
        "    \"\"\"\n",
        "    shortcut = inputs\n",
        "    \n",
        "    inputs = tf.layers.conv2d(inputs, filters, kernel_size=[3,3], strides=[1,strides,strides,1], \n",
        "                              padding='SAME',use_bias=False, \n",
        "                              kernel_initializer= tf.variance_scaling_initializer(factor=1.0, mode='FAN_IN'))\n",
        "    \n",
        "    inputs = tf.nn.selu(inputs)\n",
        "    \n",
        "    inputs = tf.layers.conv2d(inputs, filters, kernel_size=[3,3], strides=[1,strides,strides,1], \n",
        "                              padding='SAME',use_bias=False, \n",
        "                              kernel_initializer= tf.variance_scaling_initializer(factor=1.0, mode='FAN_IN'))\n",
        "    \n",
        "    \n",
        "    \n",
        "    inputs += shortcut\n",
        "    \n",
        "    inputs = tf.nn.selu(inputs)\n",
        "    \n",
        "    return inputs\n",
        "    \n",
        "    "
      ],
      "execution_count": 0,
      "outputs": []
    },
    {
      "metadata": {
        "id": "wyQirBnYVY63",
        "colab_type": "code",
        "colab": {}
      },
      "cell_type": "code",
      "source": [
        "def _block_v1(inputs,filters=64,strides=1,downsample):\n",
        "    \"\"\"\n",
        "    Block 1 of Resnet 18\n",
        "    \n",
        "    Args:\n",
        "    inputs: A tensor of size [batch, height_in, width_in, channels]\n",
        "    filters: The number of filters for the convolutions.\n",
        "    strides: The block's stride.\n",
        "    \"\"\"\n",
        "    shortcut = inputs\n",
        "    \n",
        "    if downsample is not None:\n",
        "      shortcut = downsample(inputs)\n",
        "    \n",
        "    inputs = tf.layers.conv2d(inputs, filters, kernel_size=[3,3], strides=[1,strides,strides,1], \n",
        "                              padding='SAME',use_bias=False, \n",
        "                              kernel_initializer= tf.variance_scaling_initializer(factor=1.0, mode='FAN_IN'))\n",
        "    \n",
        "    inputs = tf.nn.selu(inputs)\n",
        "    \n",
        "    inputs = tf.layers.conv2d(inputs, filters, kernel_size=[3,3], strides=[1,strides,strides,1], \n",
        "                              padding='SAME',use_bias=False, \n",
        "                              kernel_initializer= tf.variance_scaling_initializer(factor=1.0, mode='FAN_IN'))\n",
        "    \n",
        "    \n",
        "    \n",
        "    inputs += shortcut\n",
        "    \n",
        "    inputs = tf.nn.selu(inputs)\n",
        "    \n",
        "    return inputs\n",
        "    "
      ],
      "execution_count": 0,
      "outputs": []
    },
    {
      "metadata": {
        "id": "h_cjMhfyVYsM",
        "colab_type": "code",
        "colab": {}
      },
      "cell_type": "code",
      "source": [
        "def block_layer(inputs, filters, strides, name, training):\n",
        "  \n",
        "    def downsample(inputs):\n",
        "      \n",
        "  "
      ],
      "execution_count": 0,
      "outputs": []
    },
    {
      "metadata": {
        "id": "ZyWzaEw30m1r",
        "colab_type": "code",
        "colab": {}
      },
      "cell_type": "code",
      "source": [
        "def block_down_sample(inputs,filters,strides=1):\n",
        "    \"\"\"\n",
        "    Block 2 of Resnet 18\n",
        "    \n",
        "    Args:\n",
        "    inputs: A tensor of size [batch, height_in, width_in, channels]\n",
        "    filters: The number of filters for the convolutions.\n",
        "    strides: The block's stride.\n",
        "    \"\"\"\n",
        "    shortcut = inputs\n",
        "    \n",
        "    inputs = tf.layers.conv2d(inputs, filters, kernel_size=[3,3], strides=[1,strides,strides,1], \n",
        "                              padding='SAME',use_bias=False, \n",
        "                              kernel_initializer= tf.variance_scaling_initializer(factor=1.0, mode='FAN_IN'))\n",
        "    \n",
        "    inputs = tf.nn.selu(inputs)\n",
        "    \n",
        "    inputs = tf.layers.conv2d(inputs, filters, kernel_size=[3,3], strides=[1,2,2,1], \n",
        "                              padding='SAME',use_bias=False, \n",
        "                              kernel_initializer= tf.variance_scaling_initializer(factor=1.0, mode='FAN_IN'))\n",
        "    \n",
        "    inputs += shortcut\n",
        "    \n",
        "    inputs = tf.nn.selu(inputs)\n",
        "    \n",
        "    return inputs"
      ],
      "execution_count": 0,
      "outputs": []
    },
    {
      "metadata": {
        "id": "SzZFkYMpEIoX",
        "colab_type": "code",
        "colab": {}
      },
      "cell_type": "code",
      "source": [
        "class Model(object):\n",
        "  \n",
        "  def __init__(self, num_classes):\n",
        "    \n",
        "    \"\"\"\n",
        "    Args:\n",
        "    \n",
        "      num_classes: The number of classes used as labels.\n",
        "    \"\"\"\n",
        "    \n",
        "    self.num_classes = num_classes\n",
        "    \n",
        "    def __call__(self, inputs):\n",
        "      \n",
        "      \"\"\"\n",
        "      Add operations to classify a batch of input images.\n",
        "      \n",
        "      Args:\n",
        "      inputs: A Tensor representing a batch of input images.\n",
        "      \n",
        "      Returns:\n",
        "      A logits Tensor with shape [<batch_size>, self.num_classes].\n",
        "      \"\"\"\n",
        "      \n",
        "      \n",
        "      inputs = tf.layers.conv2d(inputs, 64, kernel_size=[7,7], strides=[1,2,2,1], \n",
        "                              padding='SAME',use_bias=False, \n",
        "                              kernel_initializer= tf.variance_scaling_initializer(factor=1.0, mode='FAN_IN'))\n",
        "      \n",
        "      inputs = tf.nn.selu(inputs)\n",
        "      \n",
        "      inputs = tf.layers.max_pooling2d( inputs=inputs, pool_size=[3,3], strides=[1,2,2,1], padding='SAME')\n",
        "      \n",
        "      inputs = tf.identity(inputs)\n",
        "      \n",
        "      inputs = block(inputs)\n",
        "      inputs = block(inputs)\n",
        "      \n",
        "      for i in range(3):\n",
        "        inputs = block_down_sample(inputs, (i+7)**2)\n",
        "        inputs = block(inputs,(i+7)**2)\n",
        "        \n",
        "      #Used Reduce_mean instead of AvgPooling2D as it performs better  \n",
        "      axes = [1, 2]\n",
        "      inputs = tf.reduce_mean(inputs, axes, keepdims=True)\n",
        "      inputs = tf.identity(inputs, 'final_reduce_mean')\n",
        "\n",
        "      inputs = tf.squeeze(inputs, axes)\n",
        "      inputs = tf.layers.dense(inputs=inputs, units=self.num_classes)\n",
        "      inputs = tf.identity(inputs, 'final_dense')\n",
        "      return inputs\n"
      ],
      "execution_count": 0,
      "outputs": []
    }
  ]
}